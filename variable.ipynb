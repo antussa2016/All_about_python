{
  "nbformat": 4,
  "nbformat_minor": 0,
  "metadata": {
    "colab": {
      "name": "variable.ipynb",
      "provenance": [],
      "authorship_tag": "ABX9TyNtdaZTuJexF4qXq3w21I11",
      "include_colab_link": true
    },
    "kernelspec": {
      "name": "python3",
      "display_name": "Python 3"
    },
    "language_info": {
      "name": "python"
    }
  },
  "cells": [
    {
      "cell_type": "markdown",
      "metadata": {
        "id": "view-in-github",
        "colab_type": "text"
      },
      "source": [
        "<a href=\"https://colab.research.google.com/github/anturex2016/All_about_python/blob/master/variable.ipynb\" target=\"_parent\"><img src=\"https://colab.research.google.com/assets/colab-badge.svg\" alt=\"Open In Colab\"/></a>"
      ]
    },
    {
      "cell_type": "code",
      "metadata": {
        "id": "6FY51Z6UgWtM"
      },
      "source": [
        "a=\"45\"\n",
        "b=\"34\"\n",
        "print(int(a)+int(b))"
      ],
      "execution_count": null,
      "outputs": []
    },
    {
      "cell_type": "code",
      "metadata": {
        "colab": {
          "base_uri": "https://localhost:8080/"
        },
        "id": "AfZ-oQb7hNvy",
        "outputId": "b1794084-1fe7-4aab-9401-379c7ec2760f"
      },
      "source": [
        "print(\"hello world\")\n",
        "print(10*\"hello world\")"
      ],
      "execution_count": 2,
      "outputs": [
        {
          "output_type": "stream",
          "text": [
            "hello world\n",
            "hello worldhello worldhello worldhello worldhello worldhello worldhello worldhello worldhello worldhello world\n"
          ],
          "name": "stdout"
        }
      ]
    }
  ]
}