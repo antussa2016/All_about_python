{
  "nbformat": 4,
  "nbformat_minor": 0,
  "metadata": {
    "colab": {
      "name": "variable.ipynb",
      "provenance": [],
      "authorship_tag": "ABX9TyOBJD7y/Ep03N1p3Ocis9pd",
      "include_colab_link": true
    },
    "kernelspec": {
      "name": "python3",
      "display_name": "Python 3"
    },
    "language_info": {
      "name": "python"
    }
  },
  "cells": [
    {
      "cell_type": "markdown",
      "metadata": {
        "id": "view-in-github",
        "colab_type": "text"
      },
      "source": [
        "<a href=\"https://colab.research.google.com/github/anturex2016/All_about_python/blob/master/variable.ipynb\" target=\"_parent\"><img src=\"https://colab.research.google.com/assets/colab-badge.svg\" alt=\"Open In Colab\"/></a>"
      ]
    },
    {
      "cell_type": "code",
      "metadata": {
        "id": "6FY51Z6UgWtM"
      },
      "source": [
        "a=\"45\"\n",
        "b=\"34\"\n",
        "print(int(a)+int(b))"
      ],
      "execution_count": null,
      "outputs": []
    },
    {
      "cell_type": "code",
      "metadata": {
        "id": "AfZ-oQb7hNvy"
      },
      "source": [
        "print(\"hello world\")\n",
        "print(10*\"hello world \\n\")"
      ],
      "execution_count": null,
      "outputs": []
    },
    {
      "cell_type": "code",
      "metadata": {
        "id": "THZkIqzDiLlX"
      },
      "source": [
        "print(\"enter number\")\n",
        "num=input()\n",
        "print(\"the number\", int(num)+10)"
      ],
      "execution_count": null,
      "outputs": []
    },
    {
      "cell_type": "code",
      "metadata": {
        "id": "Y9vcXCo3i-5x"
      },
      "source": [
        "print(\"enter first number\")\n",
        "a= input()\n",
        "print(\"enter second number\")\n",
        "b =input()\n",
        "print(\"result\", int(a)+int(b))"
      ],
      "execution_count": null,
      "outputs": []
    }
  ]
}