{
  "nbformat": 4,
  "nbformat_minor": 0,
  "metadata": {
    "colab": {
      "name": "star_print.ipynb",
      "provenance": [],
      "authorship_tag": "ABX9TyNnfSYmleivN1qQ5AU7GVeV",
      "include_colab_link": true
    },
    "kernelspec": {
      "name": "python3",
      "display_name": "Python 3"
    },
    "language_info": {
      "name": "python"
    }
  },
  "cells": [
    {
      "cell_type": "markdown",
      "metadata": {
        "id": "view-in-github",
        "colab_type": "text"
      },
      "source": [
        "<a href=\"https://colab.research.google.com/github/anturex2016/All_about_python/blob/master/star_print.ipynb\" target=\"_parent\"><img src=\"https://colab.research.google.com/assets/colab-badge.svg\" alt=\"Open In Colab\"/></a>"
      ]
    },
    {
      "cell_type": "code",
      "metadata": {
        "colab": {
          "base_uri": "https://localhost:8080/"
        },
        "id": "GL-8j-jbJj1b",
        "outputId": "adb76b84-3ac5-4b84-db8b-6dcf7cd2060f"
      },
      "source": [
        " for x in range(0, 5):\n",
        "     \n",
        "        # inner loop to handle number of columns\n",
        "        # values changing acc. to outer loop\n",
        "        for y in range(0, x+1):\n",
        "         \n",
        "            # printing stars\n",
        "            print(\"* \",end=\"\")\n",
        "      \n",
        "        # ending line after each row\n",
        "        print(\"\\r\")\n",
        " \n",
        "\n",
        "      \n",
        "    "
      ],
      "execution_count": 28,
      "outputs": [
        {
          "output_type": "stream",
          "text": [
            "* \r\n",
            "* * \r\n",
            "* * * \r\n",
            "* * * * \r\n",
            "* * * * * \r\n"
          ],
          "name": "stdout"
        }
      ]
    },
    {
      "cell_type": "code",
      "metadata": {
        "colab": {
          "base_uri": "https://localhost:8080/"
        },
        "id": "_8toJW1qMxMK",
        "outputId": "20f8043d-8966-467f-e94b-15a854be7d3b"
      },
      "source": [
        "for x in range(0, 6):\n",
        "\n",
        "  for y in range(0,6-x):\n",
        "\n",
        "     print(\"* \",end=\"\")\n",
        "\n",
        "\n",
        "  print(\"\\r\")"
      ],
      "execution_count": 50,
      "outputs": [
        {
          "output_type": "stream",
          "text": [
            "* * * * * * \r\n",
            "* * * * * \r\n",
            "* * * * \r\n",
            "* * * \r\n",
            "* * \r\n",
            "* \r\n"
          ],
          "name": "stdout"
        }
      ]
    }
  ]
}