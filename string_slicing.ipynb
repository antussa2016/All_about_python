{
  "nbformat": 4,
  "nbformat_minor": 0,
  "metadata": {
    "colab": {
      "name": "string_slicing.ipynb",
      "provenance": [],
      "authorship_tag": "ABX9TyNpCza+1XYFhN3ZNrVFHiAc",
      "include_colab_link": true
    },
    "kernelspec": {
      "name": "python3",
      "display_name": "Python 3"
    },
    "language_info": {
      "name": "python"
    }
  },
  "cells": [
    {
      "cell_type": "markdown",
      "metadata": {
        "id": "view-in-github",
        "colab_type": "text"
      },
      "source": [
        "<a href=\"https://colab.research.google.com/github/anturex2016/All_about_python/blob/master/string_slicing.ipynb\" target=\"_parent\"><img src=\"https://colab.research.google.com/assets/colab-badge.svg\" alt=\"Open In Colab\"/></a>"
      ]
    },
    {
      "cell_type": "code",
      "metadata": {
        "colab": {
          "base_uri": "https://localhost:8080/"
        },
        "id": "B3EQhVvUkRCC",
        "outputId": "8dafe544-095b-4a08-8568-7da06b566528"
      },
      "source": [
        "a=\"Muhammad Naakaash\"\n",
        "print(a[0:4])"
      ],
      "execution_count": 4,
      "outputs": [
        {
          "output_type": "stream",
          "text": [
            "Muha\n"
          ],
          "name": "stdout"
        }
      ]
    },
    {
      "cell_type": "code",
      "metadata": {
        "colab": {
          "base_uri": "https://localhost:8080/"
        },
        "id": "_UPc0L_Gl7Wh",
        "outputId": "6a63e990-91b7-413c-97cf-29acace06ec0"
      },
      "source": [
        "print(len(a))\n",
        "print(a[0:17])"
      ],
      "execution_count": 3,
      "outputs": [
        {
          "output_type": "stream",
          "text": [
            "17\n",
            "Muhammad Naakaash\n"
          ],
          "name": "stdout"
        }
      ]
    }
  ]
}