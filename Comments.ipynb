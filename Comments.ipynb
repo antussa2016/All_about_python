{
  "nbformat": 4,
  "nbformat_minor": 0,
  "metadata": {
    "colab": {
      "name": "Comments.ipynb",
      "provenance": [],
      "authorship_tag": "ABX9TyMbVeKa1iTZ0QIS7DSeVDsM",
      "include_colab_link": true
    },
    "kernelspec": {
      "name": "python3",
      "display_name": "Python 3"
    },
    "language_info": {
      "name": "python"
    }
  },
  "cells": [
    {
      "cell_type": "markdown",
      "metadata": {
        "id": "view-in-github",
        "colab_type": "text"
      },
      "source": [
        "<a href=\"https://colab.research.google.com/github/anturex2016/All_about_python/blob/master/Comments.ipynb\" target=\"_parent\"><img src=\"https://colab.research.google.com/assets/colab-badge.svg\" alt=\"Open In Colab\"/></a>"
      ]
    },
    {
      "cell_type": "code",
      "metadata": {
        "id": "9x-KRXquaG63"
      },
      "source": [
        "#gvvhdgvdvcbcbn\n",
        "#cvbcvnvbncvbnc\n"
      ],
      "execution_count": 8,
      "outputs": []
    },
    {
      "cell_type": "code",
      "metadata": {
        "colab": {
          "base_uri": "https://localhost:8080/"
        },
        "id": "065A41D6a6Cs",
        "outputId": "cfba5181-f8d9-4864-dc74-cbbb32dd976b"
      },
      "source": [
        "print(\"din kal valo jaitase na\", end=\" \")\n",
        "print(\"ki kormu kisu jani na \")\n",
        "print(\"din kal valo jaitase na\",\"ki kormu kisu jani na \")"
      ],
      "execution_count": 10,
      "outputs": [
        {
          "output_type": "stream",
          "text": [
            "din kal valo jaitase na ki kormu kisu jani na \n",
            "din kal valo jaitase na ki kormu kisu jani na \n"
          ],
          "name": "stdout"
        }
      ]
    }
  ]
}