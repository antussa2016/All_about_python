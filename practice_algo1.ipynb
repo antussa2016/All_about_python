{
  "nbformat": 4,
  "nbformat_minor": 0,
  "metadata": {
    "colab": {
      "name": "practice_algo1.ipynb",
      "provenance": [],
      "collapsed_sections": [],
      "authorship_tag": "ABX9TyNRPBRL5sZlE7FSRiDoCvC4",
      "include_colab_link": true
    },
    "kernelspec": {
      "name": "python3",
      "display_name": "Python 3"
    },
    "language_info": {
      "name": "python"
    }
  },
  "cells": [
    {
      "cell_type": "markdown",
      "metadata": {
        "id": "view-in-github",
        "colab_type": "text"
      },
      "source": [
        "<a href=\"https://colab.research.google.com/github/anturex2016/All_about_python/blob/master/practice_algo1.ipynb\" target=\"_parent\"><img src=\"https://colab.research.google.com/assets/colab-badge.svg\" alt=\"Open In Colab\"/></a>"
      ]
    },
    {
      "cell_type": "code",
      "metadata": {
        "id": "8OFi1Gsl3QrO"
      },
      "source": [
        "\n",
        "import random\n",
        "k=5\n",
        "for x in range(1,2):\n",
        "  for y in range(1,2):\n",
        "     wait = random.uniform(1,10)\n",
        "     while wait != 0:\n",
        "       if int(k) < 6:\n",
        "         print(x,wait)\n",
        "         break\n",
        "         \n",
        "       "
      ],
      "execution_count": null,
      "outputs": []
    }
  ]
}